{
 "cells": [
  {
   "cell_type": "markdown",
   "metadata": {},
   "source": [
    "# Lab: using clustering to find best store locations\n",
    "\n",
    "Imagine the following situation:<br>\n",
    "You own a pizza chain, and you collected data about pizza deliveries in a certain neighborhood. The data contains a coordinate of each delivery as a pair *(Latitude, Longitude)*. You do not have any stores in this neighborhood, and driving there each time is too expensive (especially with current gas prices). So you decide to open $K$ new stores in this area. The task is, based on the frequent delivery data, determine the best locations for the new stores.\n",
    "\n",
    "You need to perform the $K$-means clustering of delivery locations, and otput the best location for $K$ new stores. How would you choose the location of the store within each cluster that minimizes the overall distance between the store and each delivery address? __Explain your idea in a separate cell below.__"
   ]
  },
  {
   "cell_type": "markdown",
   "metadata": {},
   "source": []
  },
  {
   "cell_type": "markdown",
   "metadata": {},
   "source": [
    "The data is 2-dimensional and it is easy to plot it to see if the locations of new stores make sense."
   ]
  },
  {
   "cell_type": "code",
   "execution_count": 4,
   "metadata": {},
   "outputs": [],
   "source": [
    "%matplotlib inline\n",
    "import matplotlib.pyplot as plt\n",
    "import seaborn as sns; sns.set()  # for plot styling\n",
    "import pandas as pd\n",
    "import numpy as np"
   ]
  },
  {
   "cell_type": "markdown",
   "metadata": {},
   "source": [
    "The data is a real data collected by [this person](https://github.com/angelddaz) while they were working as a pizza delivery driver. The file `pizza_delivery_locations.csv` is a projection of the original data and contains only *(Latitude, Longitude)* of each delivery address. "
   ]
  },
  {
   "cell_type": "code",
   "execution_count": 5,
   "metadata": {},
   "outputs": [],
   "source": [
    "data_file = \"pizza_delivery_locations.csv\""
   ]
  },
  {
   "cell_type": "code",
   "execution_count": 44,
   "metadata": {},
   "outputs": [
    {
     "name": "stdout",
     "output_type": "stream",
     "text": [
      "Index(['Latitude', 'Longitude'], dtype='object')\n"
     ]
    }
   ],
   "source": [
    "data = pd.read_csv(data_file)\n",
    "print(data.columns)\n",
    "len(data)\n",
    "\n",
    "# convert dataframe to a 2D numpy array - it is easier to work with it\n",
    "data = data.to_numpy()"
   ]
  },
  {
   "cell_type": "markdown",
   "metadata": {},
   "source": [
    "## Task 1.\n",
    "\n",
    "Use $K$-means clustering algorithm to find the best locations for new pizza stores for $K$=2, $K$=3 and $K$=4. The answers should be represented as lists of *(Latitide,Longitude)* tuples for each value of $K$.\n",
    "\n",
    "You can use the custom code from the k-means demo, or you can implement your own clustering algorithm. What distance metric is the most appropriate for this situation?"
   ]
  },
  {
   "cell_type": "code",
   "execution_count": 67,
   "metadata": {},
   "outputs": [],
   "source": [
    "import random\n",
    "from math import sqrt\n",
    "\n",
    "def euclidean(v1,v2):\n",
    "    res=0\n",
    "    dimensions=min(len(v1),len(v2))\n",
    "    for i in range(dimensions):\n",
    "        res+=pow(abs(v1[i]-v2[i]),2)\n",
    "\n",
    "    return sqrt(float(res))\n",
    "\n",
    "# k-means clustering\n",
    "def kcluster(rows,distance=euclidean,k=4):\n",
    "    # Determine the minimum and maximum values for each point\n",
    "    ranges=[(min([row[i] for row in rows]),max([row[i] for row in rows]))\n",
    "    for i in range(len(rows[0]))]\n",
    "\n",
    "    # Create k randomly placed centroids\n",
    "    clusters=[[random.random()*(ranges[i][1]-ranges[i][0])+ranges[i][0]\n",
    "                            for i in range(len(rows[0]))] for j in range(k)]\n",
    "  \n",
    "    lastmatches=None\n",
    "    bestmatches=None\n",
    "\n",
    "    for t in range(100):\n",
    "        bestmatches=[[] for i in range(k)]\n",
    "    \n",
    "        # Find which centroid is the closest for each row\n",
    "        for j in range(len(rows)):\n",
    "            row=rows[j]\n",
    "            bestmatch=0\n",
    "            for i in range(k):\n",
    "                d=distance(clusters[i],row)\n",
    "                if d<distance(clusters[bestmatch],row): bestmatch=i\n",
    "            bestmatches[bestmatch].append(j)\n",
    "\n",
    "        # If the results are the same as last time, this is complete\n",
    "        if bestmatches==lastmatches: break\n",
    "        lastmatches=bestmatches\n",
    "    \n",
    "        # Move the centroids to the average of the cluster members\n",
    "        for i in range(k):\n",
    "            avgs=[0.0]*len(rows[0])\n",
    "            if len(bestmatches[i])>0:\n",
    "                for rowid in bestmatches[i]:\n",
    "                    for m in range(len(rows[rowid])):\n",
    "                        avgs[m]+=rows[rowid][m]\n",
    "                for j in range(len(avgs)):\n",
    "                    avgs[j]/=len(bestmatches[i])\n",
    "                clusters[i]=avgs\n",
    "      \n",
    "    return [clusters, bestmatches]"
   ]
  },
  {
   "cell_type": "code",
   "execution_count": 68,
   "metadata": {},
   "outputs": [],
   "source": [
    "# clustering code for 2,3 and 4 clusters\n",
    "K = 2\n",
    "\n",
    "two_cluster_centroids = kcluster(data, euclidean, 2)\n",
    "three_cluster_centroids = kcluster(data, euclidean, 3)\n",
    "four_cluster_centroids = kcluster(data, euclidean, 4)"
   ]
  },
  {
   "cell_type": "code",
   "execution_count": 69,
   "metadata": {},
   "outputs": [
    {
     "name": "stdout",
     "output_type": "stream",
     "text": [
      "[[43.66816551446282, -116.26604820247981], [43.63727286046531, -116.22524744798069]]\n",
      "[[43.63727286046531, -116.22524744798069], [43.663956051111185, -116.2668794800005], [43.72387899999997, -116.25504600000009]]\n",
      "[[43.65404265275705, -116.26009485245959], [43.72387899999997, -116.25504600000009], [43.63474765922942, -116.21893321298175], [43.656688679611655, -116.21034185436882]]\n"
     ]
    }
   ],
   "source": [
    "# Extracting best store locations for each cluster of addresses\n",
    "print(two_cluster_centroids[0])\n",
    "\n",
    "print(three_cluster_centroids[0])\n",
    "\n",
    "print(four_cluster_centroids[0])"
   ]
  },
  {
   "cell_type": "markdown",
   "metadata": {},
   "source": [
    "## Task 2\n",
    "Visualize clusters by plotting each data point and coloring it with a different color corresponding to the cluster to which it belongs. Also plot the locations of new stores for each value of $K$. Some examples of the final visualizations are given below."
   ]
  },
  {
   "cell_type": "code",
   "execution_count": 70,
   "metadata": {},
   "outputs": [
    {
     "name": "stdout",
     "output_type": "stream",
     "text": [
      "1301\n",
      "10\n"
     ]
    },
    {
     "data": {
      "image/png": "[encoded data removed]",
      "text/plain": [
       "<Figure size 720x432 with 1 Axes>"
      ]
     },
     "metadata": {},
     "output_type": "display_data"
    },
    {
     "ename": "IndexError",
     "evalue": "too many indices for array: array is 1-dimensional, but 2 were indexed",
     "output_type": "error",
     "traceback": [
      "\u001b[0;31m---------------------------------------------------------------------------\u001b[0m",
      "\u001b[0;31mIndexError\u001b[0m                                Traceback (most recent call last)",
      "\u001b[0;32m<ipython-input-70-018231a25d05>\u001b[0m in \u001b[0;36m<module>\u001b[0;34m\u001b[0m\n\u001b[1;32m     23\u001b[0m \u001b[0;32mfor\u001b[0m \u001b[0mi\u001b[0m\u001b[0;34m,\u001b[0m \u001b[0mcluster\u001b[0m \u001b[0;32min\u001b[0m \u001b[0menumerate\u001b[0m\u001b[0;34m(\u001b[0m\u001b[0mtwo_cluster_centroids\u001b[0m\u001b[0;34m[\u001b[0m\u001b[0;36m1\u001b[0m\u001b[0;34m]\u001b[0m\u001b[0;34m)\u001b[0m\u001b[0;34m:\u001b[0m\u001b[0;34m\u001b[0m\u001b[0;34m\u001b[0m\u001b[0m\n\u001b[1;32m     24\u001b[0m     \u001b[0mcluster_points\u001b[0m \u001b[0;34m=\u001b[0m \u001b[0mnp\u001b[0m\u001b[0;34m.\u001b[0m\u001b[0marray\u001b[0m\u001b[0;34m(\u001b[0m\u001b[0mcluster\u001b[0m\u001b[0;34m)\u001b[0m\u001b[0;34m\u001b[0m\u001b[0;34m\u001b[0m\u001b[0m\n\u001b[0;32m---> 25\u001b[0;31m     \u001b[0mplt\u001b[0m\u001b[0;34m.\u001b[0m\u001b[0mscatter\u001b[0m\u001b[0;34m(\u001b[0m\u001b[0mcluster_points\u001b[0m\u001b[0;34m[\u001b[0m\u001b[0;34m:\u001b[0m\u001b[0;34m,\u001b[0m \u001b[0;36m0\u001b[0m\u001b[0;34m]\u001b[0m\u001b[0;34m,\u001b[0m \u001b[0mcluster_points\u001b[0m\u001b[0;34m[\u001b[0m\u001b[0;34m:\u001b[0m\u001b[0;34m,\u001b[0m \u001b[0;36m1\u001b[0m\u001b[0;34m]\u001b[0m\u001b[0;34m,\u001b[0m \u001b[0mcolor\u001b[0m\u001b[0;34m=\u001b[0m\u001b[0mcolors\u001b[0m\u001b[0;34m[\u001b[0m\u001b[0mi\u001b[0m\u001b[0;34m]\u001b[0m\u001b[0;34m,\u001b[0m \u001b[0mlabel\u001b[0m\u001b[0;34m=\u001b[0m\u001b[0;34mf'Cluster {i+1}'\u001b[0m\u001b[0;34m)\u001b[0m\u001b[0;34m\u001b[0m\u001b[0;34m\u001b[0m\u001b[0m\n\u001b[0m\u001b[1;32m     26\u001b[0m \u001b[0;34m\u001b[0m\u001b[0m\n\u001b[1;32m     27\u001b[0m \u001b[0mplt\u001b[0m\u001b[0;34m.\u001b[0m\u001b[0mxlabel\u001b[0m\u001b[0;34m(\u001b[0m\u001b[0;34m'X'\u001b[0m\u001b[0;34m)\u001b[0m\u001b[0;34m\u001b[0m\u001b[0;34m\u001b[0m\u001b[0m\n",
      "\u001b[0;31mIndexError\u001b[0m: too many indices for array: array is 1-dimensional, but 2 were indexed"
     ]
    }
   ],
   "source": [
    "print(len(data))\n",
    "\n",
    "coordinates_list = [tuple(row) for row in data]\n",
    "\n",
    "print(len(set(coordinates_list)))\n",
    "\n",
    "long = []\n",
    "lat = []\n",
    "for point in coordinates_list:\n",
    "    long.append(point[0])\n",
    "    lat.append(point[1])\n",
    "    \n",
    "    \n",
    "plt.figure(figsize=(10, 6))\n",
    "plt.scatter(long, lat, color='blue', marker='o')\n",
    "plt.xlabel('Longitude')\n",
    "plt.ylabel('Latitude')\n",
    "plt.title('All Data Points')\n",
    "plt.grid(True)\n",
    "plt.show()\n",
    "\n",
    "colors = ['r', 'g', 'b', 'c', 'm', 'y']\n",
    "for cluster in range(0, K):\n",
    "    for i in two_cluster_centroids[1]:\n",
    "        cluster_points = np.array(cluster)\n",
    "        plt.scatter(cluster_points[:, 0], cluster_points[:, 1], color=colors[i], label=f'Cluster {i+1}')\n",
    "\n",
    "plt.xlabel('X')\n",
    "plt.ylabel('Y')\n",
    "plt.title('Cluster Plot')\n",
    "plt.legend()\n",
    "plt.grid(True)\n",
    "plt.show()"
   ]
  },
  {
   "cell_type": "markdown",
   "metadata": {},
   "source": [
    "## Examples of cluster visualization in 2D"
   ]
  },
  {
   "cell_type": "markdown",
   "metadata": {},
   "source": [
    "Plotting original data:\n",
    "    \n",
    "<img src=\"clusters.png\">"
   ]
  },
  {
   "cell_type": "markdown",
   "metadata": {},
   "source": [
    "Plotting clusters with store locations\n",
    "<img src=\"locations.png\">"
   ]
  },
  {
   "cell_type": "markdown",
   "metadata": {},
   "source": [
    "Copyright &copy; 2024 Marina Barsky. All rights reserved."
   ]
  }
 ],
 "metadata": {
  "kernelspec": {
   "display_name": "Python 3",
   "language": "python",
   "name": "python3"
  },
  "language_info": {
   "codemirror_mode": {
    "name": "ipython",
    "version": 3
   },
   "file_extension": ".py",
   "mimetype": "text/x-python",
   "name": "python",
   "nbconvert_exporter": "python",
   "pygments_lexer": "ipython3",
   "version": "3.8.8"
  }
 },
 "nbformat": 4,
 "nbformat_minor": 4
}
